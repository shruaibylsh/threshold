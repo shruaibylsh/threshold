{
 "cells": [
  {
   "cell_type": "code",
   "execution_count": 1,
   "id": "5cf7fa8d",
   "metadata": {},
   "outputs": [],
   "source": [
    "import os, glob, math\n",
    "import numpy as np\n",
    "from scipy.spatial import cKDTree\n",
    "from PIL import Image\n",
    "\n",
    "\n",
    "NPY_FOLDER   = r\"C:\\Users\\shrua\\OneDrive\\Desktop\\threshold project\\threshold\\data\\processed_buildings\"\n",
    "OUT_FOLDER   = r\"C:\\Users\\shrua\\OneDrive\\Desktop\\threshold project\\threshold\\data\\panos_buildings\"\n",
    "IMG_WIDTH    = 64\n",
    "IMG_HEIGHT   = 32\n",
    "MAX_DIST     = 10.0\n",
    "RAY_COUNT    = 2048\n",
    "\n",
    "os.makedirs(OUT_FOLDER, exist_ok=True)\n"
   ]
  },
  {
   "cell_type": "markdown",
   "id": "6c9a92de",
   "metadata": {},
   "source": [
    "## process depth maps"
   ]
  },
  {
   "cell_type": "code",
   "execution_count": null,
   "id": "fc984a4c",
   "metadata": {},
   "outputs": [],
   "source": [
    "# Fibonacci Sphere Directions (used in Rhino as well)\n",
    "def fibonacci_sphere_dirs(n: int) -> np.ndarray:\n",
    "    \"\"\"Generate `n` unit vectors evenly distributed on a sphere using the Fibonacci method.\n",
    "       Y is treated as the vertical axis (elevation).\n",
    "    Returns:\n",
    "        dirs: (n, 3) numpy array of unit direction vectors (x, y, z)\n",
    "    \"\"\"\n",
    "    dirs = np.zeros((n, 3), dtype=np.float64)\n",
    "    offset = 2.0 / n\n",
    "    inc = math.pi * (3.0 - math.sqrt(5.0))  # golden angle\n",
    "\n",
    "    for i in range(n):\n",
    "        y = ((i * offset) - 1.0) + (offset / 2.0)  # elevation (Y-axis)\n",
    "        r = math.sqrt(max(0.0, 1.0 - y * y))\n",
    "        phi = i * inc\n",
    "        x = math.cos(phi) * r\n",
    "        z = math.sin(phi) * r\n",
    "        dirs[i, :] = (x, y, z)\n",
    "    \n",
    "    return dirs  # shape: (n, 3)\n",
    "\n",
    "\n",
    "# Convert Directions to Angles\n",
    "def dirs_to_angles_xyz(dirs: np.ndarray) -> tuple:\n",
    "    \"\"\"Convert Cartesian directions (x, y, z) to azimuth and elevation angles.\n",
    "    Returns:\n",
    "        azimuth: (n,) in [-π, π]\n",
    "        elevation: (n,) in [-π/2, π/2]\n",
    "    \"\"\"\n",
    "    x = dirs[:, 0]\n",
    "    y = dirs[:, 1]\n",
    "    z = dirs[:, 2]\n",
    "    az = np.arctan2(z, x)              # azimuth (longitude)\n",
    "    el = np.arcsin(np.clip(y, -1.0, 1.0))  # elevation (latitude)\n",
    "    return az, el\n",
    "\n",
    "\n",
    "# Map Angles to Pixel Coordinates\n",
    "def angles_to_pixels(az: np.ndarray, el: np.ndarray, W: int, H: int) -> tuple:\n",
    "    \"\"\"Map azimuth and elevation to pixel coordinates in an equirectangular panorama.\n",
    "    Returns:\n",
    "        u, v: fractional pixel positions in [0, W) and [0, H)\n",
    "    \"\"\"\n",
    "    u = ((az + np.pi) / (2.0 * np.pi)) * (W - 1)\n",
    "    v = ((np.pi / 2.0 - el) / np.pi) * (H - 1)\n",
    "    return u, v\n"
   ]
  },
  {
   "cell_type": "code",
   "execution_count": 3,
   "id": "b78ec6d4",
   "metadata": {},
   "outputs": [],
   "source": [
    "def rasterize_frame_log(distances, u, v, W, H, max_dist=10.0):\n",
    "    eps = 1e-3\n",
    "    clipped = np.clip(distances, eps, max_dist)\n",
    "    log_d = np.log(clipped)\n",
    "\n",
    "    pano = np.full((H, W), np.inf)\n",
    "    ui = np.clip(np.round(u).astype(int), 0, W - 1)\n",
    "    vi = np.clip(np.round(v).astype(int), 0, H - 1)\n",
    "    lin_idx = vi * W + ui\n",
    "    flat = pano.flatten()\n",
    "    np.minimum.at(flat, lin_idx, log_d)\n",
    "    pano = flat.reshape(H, W)\n",
    "    pano[np.isinf(pano)] = np.nan\n",
    "\n",
    "    known_mask = np.isfinite(pano)\n",
    "    if known_mask.any():\n",
    "        ys, xs = np.where(known_mask)\n",
    "        vals = pano[ys, xs]\n",
    "        grid_y, grid_x = np.mgrid[0:H, 0:W]\n",
    "        grid_points = np.column_stack([grid_y.ravel(), grid_x.ravel()])\n",
    "        tree = cKDTree(np.column_stack([ys, xs]))\n",
    "        _, nn_idx = tree.query(grid_points, k=1)\n",
    "        filled = vals[nn_idx].reshape(H, W)\n",
    "        log_depth = np.where(np.isfinite(filled), filled, np.log(max_dist))\n",
    "    else:\n",
    "        log_depth = np.full((H, W), np.log(max_dist))\n",
    "\n",
    "    lo, hi = np.nanpercentile(log_depth, [1, 99])\n",
    "    norm = (log_depth - lo) / (hi - lo)\n",
    "    img = np.clip(norm * 255.0, 0, 255).astype(np.uint8)\n",
    "    return img\n"
   ]
  },
  {
   "cell_type": "markdown",
   "id": "2a7e0838",
   "metadata": {},
   "source": [
    "## batch convert"
   ]
  },
  {
   "cell_type": "code",
   "execution_count": 4,
   "id": "d1030787",
   "metadata": {},
   "outputs": [
    {
     "name": "stdout",
     "output_type": "stream",
     "text": [
      "[OK] C:\\Users\\shrua\\OneDrive\\Desktop\\threshold project\\threshold\\data\\processed_buildings\\b2_curve_01_peak_021.npy → 7 images\n",
      "[OK] C:\\Users\\shrua\\OneDrive\\Desktop\\threshold project\\threshold\\data\\processed_buildings\\b2_curve_01_peak_033.npy → 7 images\n",
      "[OK] C:\\Users\\shrua\\OneDrive\\Desktop\\threshold project\\threshold\\data\\processed_buildings\\b2_curve_01_peak_040.npy → 7 images\n",
      "[OK] C:\\Users\\shrua\\OneDrive\\Desktop\\threshold project\\threshold\\data\\processed_buildings\\b2_curve_01_peak_060.npy → 7 images\n",
      "[OK] C:\\Users\\shrua\\OneDrive\\Desktop\\threshold project\\threshold\\data\\processed_buildings\\b2_curve_01_peak_074.npy → 7 images\n",
      "[OK] C:\\Users\\shrua\\OneDrive\\Desktop\\threshold project\\threshold\\data\\processed_buildings\\b2_curve_01_peak_089.npy → 7 images\n",
      "[OK] C:\\Users\\shrua\\OneDrive\\Desktop\\threshold project\\threshold\\data\\processed_buildings\\b2_curve_01_peak_134.npy → 7 images\n",
      "[OK] C:\\Users\\shrua\\OneDrive\\Desktop\\threshold project\\threshold\\data\\processed_buildings\\b2_curve_01_peak_143.npy → 7 images\n",
      "[OK] C:\\Users\\shrua\\OneDrive\\Desktop\\threshold project\\threshold\\data\\processed_buildings\\b2_curve_01_peak_168.npy → 7 images\n",
      "Done. Wrote 63 images to C:\\Users\\shrua\\OneDrive\\Desktop\\threshold project\\threshold\\data\\panos_buildings\n"
     ]
    }
   ],
   "source": [
    "def window_to_panos(npy_path, out_folder, W=512, H=256, max_dist=10.0):\n",
    "    arr = np.load(npy_path)  # shape: (T, 2048), T<=7\n",
    "    if arr.ndim != 2 or arr.shape[1] != RAY_COUNT:\n",
    "        raise ValueError(f\"Unexpected shape for {npy_path}: {arr.shape} (expected T x {RAY_COUNT})\")\n",
    "\n",
    "    # Precompute directions and pixel coordinates once\n",
    "    dirs = fibonacci_sphere_dirs(RAY_COUNT)\n",
    "    az, el = dirs_to_angles_xyz(dirs)\n",
    "    u, v = angles_to_pixels(az, el, W, H)\n",
    "\n",
    "    base = os.path.splitext(os.path.basename(npy_path))[0]\n",
    "    out_paths = []\n",
    "\n",
    "    T = arr.shape[0]\n",
    "    for t in range(T):\n",
    "        distances = arr[t]  # (2048,)\n",
    "        img = rasterize_frame_log(distances, u, v, W, H)\n",
    "        out_name = f\"{base}_f{t:02d}.png\"\n",
    "        out_path = os.path.join(out_folder, out_name)\n",
    "        Image.fromarray(img).save(out_path)\n",
    "        out_paths.append(out_path)\n",
    "    return out_paths\n",
    "\n",
    "def batch_convert(npy_folder=NPY_FOLDER, out_folder=OUT_FOLDER, W=IMG_WIDTH, H=IMG_HEIGHT, max_dist=MAX_DIST):\n",
    "    files = sorted(glob.glob(os.path.join(npy_folder, \"*.npy\")))\n",
    "    total = 0\n",
    "    for f in files:\n",
    "        outs = window_to_panos(f, out_folder, W=W, H=H, max_dist=max_dist)\n",
    "        total += len(outs)\n",
    "        print(f\"[OK] {f} → {len(outs)} images\")\n",
    "    print(f\"Done. Wrote {total} images to {out_folder}\")\n",
    "\n",
    "if __name__ == \"__main__\":\n",
    "    batch_convert()\n"
   ]
  }
 ],
 "metadata": {
  "kernelspec": {
   "display_name": "base",
   "language": "python",
   "name": "python3"
  },
  "language_info": {
   "codemirror_mode": {
    "name": "ipython",
    "version": 3
   },
   "file_extension": ".py",
   "mimetype": "text/x-python",
   "name": "python",
   "nbconvert_exporter": "python",
   "pygments_lexer": "ipython3",
   "version": "3.13.5"
  }
 },
 "nbformat": 4,
 "nbformat_minor": 5
}
