{
 "cells": [
  {
   "cell_type": "markdown",
   "id": "c02e3961",
   "metadata": {},
   "source": [
    "# Threshold candidate detection (long paths in actual building interior)"
   ]
  },
  {
   "cell_type": "code",
   "execution_count": null,
   "id": "c568661d",
   "metadata": {},
   "outputs": [],
   "source": [
    "import numpy as np\n",
    "import pandas as pd\n",
    "import matplotlib.pyplot as plt\n",
    "from scipy.signal import find_peaks\n",
    "from scipy.ndimage import gaussian_filter1d\n",
    "import os\n",
    "import glob\n",
    "\n",
    "# Parameters\n",
    "DATA_FOLDER = r\"C:\\Users\\shrua\\OneDrive\\Desktop\\threshold project\\threshold\\data\\raw\\b2\"\n",
    "OUTPUT_FOLDER = r\"C:\\Users\\shrua\\OneDrive\\Desktop\\threshold project\\threshold\\data\\processed_buildings\"\n",
    "PEAK_Z = 0.3\n",
    "\n",
    "# change this for every type!!\n",
    "type_id = \"b2\""
   ]
  },
  {
   "cell_type": "code",
   "execution_count": 10,
   "id": "b722d60d",
   "metadata": {},
   "outputs": [],
   "source": [
    "def detect_threshold_candidates(z_scores, peak_z=1.2, min_idx=0, max_idx=None):\n",
    "    if max_idx is None:\n",
    "        max_idx = len(z_scores) - 1\n",
    "\n",
    "    peaks = []\n",
    "\n",
    "    for i in range(len(z_scores)):\n",
    "        if z_scores[i] < peak_z:\n",
    "            continue\n",
    "\n",
    "        left2  = z_scores[i - 2] if i - 2 >= 0 else None\n",
    "        left1  = z_scores[i - 1] if i - 1 >= 0 else None\n",
    "        right1 = z_scores[i + 1] if i + 1 < len(z_scores) else None\n",
    "        right2 = z_scores[i + 2] if i + 2 < len(z_scores) else None\n",
    "\n",
    "        is_peak = True\n",
    "        if left2 is not None and not (left2 < left1): is_peak = False\n",
    "        if left1 is not None and not (left1 < z_scores[i]): is_peak = False\n",
    "        if right1 is not None and not (z_scores[i] > right1): is_peak = False\n",
    "        if right2 is not None and not (right1 > right2): is_peak = False\n",
    "\n",
    "        if is_peak and min_idx <= i <= max_idx:\n",
    "            peaks.append(i)\n",
    "\n",
    "    return peaks\n"
   ]
  },
  {
   "cell_type": "code",
   "execution_count": 11,
   "id": "87e85315",
   "metadata": {},
   "outputs": [],
   "source": [
    "def calculate_isovist_features(isovist):\n",
    "    \"\"\"\n",
    "    Calculate five isovist features from a given set of ray distances.\n",
    "    \"\"\"\n",
    "    area = np.pi * np.sum(isovist) ** 2 / len(isovist)  # Approximate visible area as a circle\n",
    "    perimeter = np.sum(isovist)\n",
    "    occlusion = np.sum(isovist == 10.0) / len(isovist)\n",
    "    variance = np.var(isovist)\n",
    "    skewness = np.mean((isovist - np.mean(isovist))**3) / np.std(isovist)**3\n",
    "    return [area, perimeter, occlusion, variance, skewness]\n"
   ]
  },
  {
   "cell_type": "markdown",
   "id": "d8112889",
   "metadata": {},
   "source": [
    "## visualize for the first path"
   ]
  },
  {
   "cell_type": "code",
   "execution_count": 13,
   "id": "5dadb8ab",
   "metadata": {},
   "outputs": [
    {
     "ename": "IndexError",
     "evalue": "list index out of range",
     "output_type": "error",
     "traceback": [
      "\u001b[1;31m---------------------------------------------------------------------------\u001b[0m",
      "\u001b[1;31mIndexError\u001b[0m                                Traceback (most recent call last)",
      "Cell \u001b[1;32mIn[13], line 2\u001b[0m\n\u001b[0;32m      1\u001b[0m csv_files \u001b[38;5;241m=\u001b[39m \u001b[38;5;28msorted\u001b[39m(glob\u001b[38;5;241m.\u001b[39mglob(os\u001b[38;5;241m.\u001b[39mpath\u001b[38;5;241m.\u001b[39mjoin(DATA_FOLDER, \u001b[38;5;124m\"\u001b[39m\u001b[38;5;124mcurve_*.csv\u001b[39m\u001b[38;5;124m\"\u001b[39m)))\n\u001b[1;32m----> 2\u001b[0m first_file \u001b[38;5;241m=\u001b[39m csv_files[\u001b[38;5;241m0\u001b[39m]\n\u001b[0;32m      3\u001b[0m data \u001b[38;5;241m=\u001b[39m np\u001b[38;5;241m.\u001b[39mloadtxt(first_file, delimiter\u001b[38;5;241m=\u001b[39m\u001b[38;5;124m\"\u001b[39m\u001b[38;5;124m,\u001b[39m\u001b[38;5;124m\"\u001b[39m)\u001b[38;5;241m.\u001b[39mT  \u001b[38;5;66;03m# shape: (N, 2048)\u001b[39;00m\n\u001b[0;32m      4\u001b[0m n_points \u001b[38;5;241m=\u001b[39m data\u001b[38;5;241m.\u001b[39mshape[\u001b[38;5;241m0\u001b[39m]\n",
      "\u001b[1;31mIndexError\u001b[0m: list index out of range"
     ]
    }
   ],
   "source": [
    "csv_files = sorted(glob.glob(os.path.join(DATA_FOLDER, \"curve_*.csv\")))\n",
    "first_file = csv_files[0]\n",
    "data = np.loadtxt(first_file, delimiter=\",\").T  # shape: (N, 2048)\n",
    "n_points = data.shape[0]\n",
    "\n",
    "# Ray-based differences\n",
    "ray_diffs = np.linalg.norm(data[1:] - data[:-1], axis=1)\n",
    "ray_z = (gaussian_filter1d(ray_diffs, sigma=1.0) - np.mean(ray_diffs)) / np.std(ray_diffs)\n",
    "\n",
    "# Feature-based differences\n",
    "features = np.array([calculate_isovist_features(iso) for iso in data])  # (N, 5)\n",
    "feature_diffs = np.linalg.norm(features[1:] - features[:-1], axis=1)\n",
    "feature_z = (gaussian_filter1d(feature_diffs, sigma=1.0) - np.mean(feature_diffs)) / np.std(feature_diffs)\n",
    "\n",
    "# Combined Z-score\n",
    "combined_z = 0.5 * ray_z + 0.5 * feature_z\n",
    "\n",
    "# Detect candidates\n",
    "candidates = detect_threshold_candidates(combined_z, PEAK_Z)\n",
    "\n",
    "# Plot\n",
    "plt.figure(figsize=(12, 5))\n",
    "plt.plot(combined_z, label=\"Combined Z-score\", color='blue')\n",
    "plt.axhline(PEAK_Z, color=\"gray\", linestyle=\"--\", label=\"Peak threshold (Z=1.2)\")\n",
    "plt.scatter(candidates, combined_z[candidates], color=\"red\", label=\"Detected candidates\")\n",
    "plt.xlabel(\"Step index\")\n",
    "plt.ylabel(\"Z-score\")\n",
    "plt.grid(True)\n",
    "plt.legend()\n",
    "plt.tight_layout()\n",
    "plt.show()"
   ]
  },
  {
   "cell_type": "markdown",
   "id": "af3eeced",
   "metadata": {},
   "source": [
    "## detect threshold peaks"
   ]
  },
  {
   "cell_type": "code",
   "execution_count": 5,
   "id": "40d08e0d",
   "metadata": {},
   "outputs": [
    {
     "name": "stdout",
     "output_type": "stream",
     "text": [
      "9 candidates from 1 paths\n"
     ]
    }
   ],
   "source": [
    "results = []\n",
    "for file in csv_files:\n",
    "    filename = os.path.basename(file)\n",
    "    data = np.loadtxt(file, delimiter=\",\").T\n",
    "    n = data.shape[0]\n",
    "    diffs = np.linalg.norm(data[1:] - data[:-1], axis=1)\n",
    "    z = (diffs - np.mean(diffs)) / np.std(diffs)\n",
    "    candidates = detect_threshold_candidates(z, PEAK_Z)\n",
    "\n",
    "    for c in candidates:\n",
    "        results.append({\n",
    "            \"csv_file\": filename,\n",
    "            \"candidate_idx\": c\n",
    "        })\n",
    "\n",
    "df = pd.DataFrame(results)\n",
    "df_path = os.path.join(OUTPUT_FOLDER, f\"{type_id}_all_candidates_metadata.csv\")\n",
    "df.to_csv(df_path, index=False)\n",
    "print(f\"{len(df)} candidates from {len(csv_files)} paths\")"
   ]
  },
  {
   "cell_type": "markdown",
   "id": "87d7196a",
   "metadata": {},
   "source": [
    "## 7-frame windows"
   ]
  },
  {
   "cell_type": "code",
   "execution_count": 6,
   "id": "0faf8775",
   "metadata": {},
   "outputs": [
    {
     "name": "stdout",
     "output_type": "stream",
     "text": [
      "exported 9 .npy files\n"
     ]
    }
   ],
   "source": [
    "all_windows = []\n",
    "for file in csv_files:\n",
    "    filename = os.path.basename(file)\n",
    "    path_id = os.path.splitext(filename)[0]\n",
    "    data = np.loadtxt(file, delimiter=\",\").T\n",
    "    n = data.shape[0]\n",
    "    diffs = np.linalg.norm(data[1:] - data[:-1], axis=1)\n",
    "    z = (diffs - np.mean(diffs)) / np.std(diffs)\n",
    "    candidates = detect_threshold_candidates(z, PEAK_Z)\n",
    "\n",
    "    for c in candidates:\n",
    "        start = max(0, c - 3)\n",
    "        end = min(n, c + 4)\n",
    "        window = data[start:end]  # shape: (<=7, 2048)\n",
    "\n",
    "        out_name = f\"{type_id}_{path_id}_peak_{c:03d}.npy\"\n",
    "        out_path = os.path.join(OUTPUT_FOLDER, out_name)\n",
    "        np.save(out_path, window)\n",
    "        all_windows.append({\n",
    "            \"csv_file\": filename,\n",
    "            \"candidate_idx\": c,\n",
    "            \"start_idx\": start,\n",
    "            \"end_idx\": end,\n",
    "            \"window_file\": out_name\n",
    "        })\n",
    "\n",
    "pd.DataFrame(all_windows).to_csv(df_path, index=False)\n",
    "print(f\"exported {len(all_windows)} .npy files\")"
   ]
  }
 ],
 "metadata": {
  "kernelspec": {
   "display_name": "base",
   "language": "python",
   "name": "python3"
  },
  "language_info": {
   "codemirror_mode": {
    "name": "ipython",
    "version": 3
   },
   "file_extension": ".py",
   "mimetype": "text/x-python",
   "name": "python",
   "nbconvert_exporter": "python",
   "pygments_lexer": "ipython3",
   "version": "3.13.5"
  }
 },
 "nbformat": 4,
 "nbformat_minor": 5
}
