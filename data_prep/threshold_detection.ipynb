{
 "cells": [
  {
   "cell_type": "markdown",
   "id": "5f2cdef7",
   "metadata": {},
   "source": [
    "# Threshold candidate detection"
   ]
  },
  {
   "cell_type": "code",
   "execution_count": null,
   "id": "89f548bc",
   "metadata": {},
   "outputs": [],
   "source": [
    "import numpy as np\n",
    "import pandas as pd\n",
    "import matplotlib.pyplot as plt\n",
    "from skimage.metrics import structural_similarity as ssim\n",
    "import ruptures as rpt\n",
    "import os\n",
    "import glob\n",
    "from PIL import Image\n",
    "from depth_panorama import rays_to_panorama\n",
    "\n",
    "\n",
    "DATA_FOLDER = r\"C:\\Users\\shrua\\OneDrive\\Desktop\\threshold project\\threshold\\data\\raw\\t1-1\"\n",
    "PANO_FOLDER = r\"C:\\Users\\shrua\\OneDrive\\Desktop\\threshold project\\threshold\\data\\panos\"\n",
    "CANDIDATES_FOLDER = r\"C:\\Users\\shrua\\OneDrive\\Desktop\\threshold project\\threshold\\data\\candidates\"\n",
    "\n",
    "os.makedirs(PANO_FOLDER, exist_ok=True)\n",
    "os.makedirs(CANDIDATES_FOLDER, exist_ok=True)\n",
    "\n",
    "W, H = 64, 32\n",
    "MAX_DIST = 10.0\n",
    "\n",
    "# change this for every type!!\n",
    "type_id = \"t8-1\""
   ]
  },
  {
   "cell_type": "markdown",
   "id": "61a88c3a",
   "metadata": {},
   "source": [
    "## 1. Generate depth panoramas"
   ]
  },
  {
   "cell_type": "code",
   "execution_count": null,
   "id": "76025e76",
   "metadata": {},
   "outputs": [],
   "source": [
    "def generate_all_panoramas(data_folder, pano_folder):\n",
    "    \"\"\"Generate depth panoramas for all points in all curves.\"\"\"\n",
    "    csv_files = sorted(glob.glob(os.path.join(data_folder, \"curve_*.csv\")))\n",
    "    typology_id = os.path.basename(data_folder)\n",
    "    \n",
    "    for csv_file in csv_files:\n",
    "        filename = os.path.basename(csv_file)\n",
    "        curve_id = os.path.splitext(filename)[0]\n",
    "        \n",
    "        data = np.loadtxt(csv_file, delimiter=\",\").T  # shape: (N, 2048)\n",
    "        n_points = data.shape[0]\n",
    "        \n",
    "        for i in range(n_points):\n",
    "            distances = data[i]\n",
    "            pano = rays_to_panorama(distances, W=W, H=H, max_dist=MAX_DIST)\n",
    "            \n",
    "            pano_name = f\"{typology_id}_{curve_id}_{i+1:02d}.png\"\n",
    "            pano_path = os.path.join(pano_folder, pano_name)\n",
    "            Image.fromarray(pano).save(pano_path)\n",
    "        \n",
    "        print(f\"Generated {n_points} panoramas for {curve_id}\")\n",
    "\n",
    "generate_all_panoramas(DATA_FOLDER, PANO_FOLDER)"
   ]
  },
  {
   "cell_type": "markdown",
   "id": "c2530377",
   "metadata": {},
   "source": [
    "## 2. Compute L2 and DSSIM Time Series"
   ]
  },
  {
   "cell_type": "code",
   "execution_count": null,
   "id": "991877e0",
   "metadata": {},
   "outputs": [],
   "source": [
    "def compute_metrics(pano_folder, curve_id):\n",
    "    \"\"\"Compute L2 distance and DSSIM for a single curve.\"\"\"\n",
    "    pano_files = sorted(glob.glob(os.path.join(pano_folder, f\"*{curve_id}_*.png\")))\n",
    "    \n",
    "    panos = [np.array(Image.open(f)) for f in pano_files]\n",
    "    n = len(panos)\n",
    "    \n",
    "    l2_dists = []\n",
    "    dssims = []\n",
    "    \n",
    "    for i in range(n - 1):\n",
    "        img1 = panos[i].astype(float)\n",
    "        img2 = panos[i + 1].astype(float)\n",
    "        \n",
    "        # L2 distance\n",
    "        l2 = np.linalg.norm(img2 - img1)\n",
    "        l2_dists.append(l2)\n",
    "        \n",
    "        # DSSIM (1 - SSIM)\n",
    "        ssim_val = ssim(img1, img2, data_range=255.0)\n",
    "        dssims.append(1 - ssim_val)\n",
    "    \n",
    "    return np.array(l2_dists), np.array(dssims)"
   ]
  },
  {
   "cell_type": "markdown",
   "id": "2c6733d9",
   "metadata": {},
   "source": [
    "## 3. Apply PELT changepoint detection"
   ]
  },
  {
   "cell_type": "code",
   "execution_count": null,
   "id": "daa4e895",
   "metadata": {},
   "outputs": [],
   "source": [
    "def detect_changepoints(signal):\n",
    "    \"\"\"Apply PELT algorithm with BIC penalty.\"\"\"\n",
    "    n = len(signal)\n",
    "    penalty = np.log(n)  # BIC penalty\n",
    "    \n",
    "    algo = rpt.Pelt(model=\"rbf\").fit(signal.reshape(-1, 1))\n",
    "    changepoints = algo.predict(pen=penalty)\n",
    "    \n",
    "    # Remove the last element (end of signal)\n",
    "    if changepoints[-1] == n:\n",
    "        changepoints = changepoints[:-1]\n",
    "    \n",
    "    return changepoints"
   ]
  },
  {
   "cell_type": "markdown",
   "id": "78808da6",
   "metadata": {},
   "source": [
    "## 4. Consensus + export 7-frame windows"
   ]
  },
  {
   "cell_type": "code",
   "execution_count": null,
   "id": "8d96f898",
   "metadata": {},
   "outputs": [],
   "source": [
    "def process_curve(csv_file, pano_folder, candidates_folder):\n",
    "    \"\"\"Detect thresholds and export 7-frame windows.\"\"\"\n",
    "    filename = os.path.basename(csv_file)\n",
    "    curve_id = os.path.splitext(filename)[0]\n",
    "    typology_id = os.path.basename(os.path.dirname(csv_file))\n",
    "    \n",
    "    # Load panoramas and compute metrics\n",
    "    l2_dists, dssims = compute_metrics(pano_folder, curve_id)\n",
    "    \n",
    "    # Detect changepoints\n",
    "    l2_changepoints = detect_changepoints(l2_dists)\n",
    "    dssim_changepoints = detect_changepoints(dssims)\n",
    "    \n",
    "    # Consensus: detected by both methods\n",
    "    consensus = set(l2_changepoints) & set(dssim_changepoints)\n",
    "    moderate = (set(l2_changepoints) | set(dssim_changepoints)) - consensus\n",
    "    \n",
    "    print(f\"{curve_id}: {len(consensus)} high-confidence, {len(moderate)} moderate\")\n",
    "    \n",
    "    # Export 7-frame windows for consensus thresholds\n",
    "    pano_files = sorted(glob.glob(os.path.join(pano_folder, f\"*{curve_id}_*.png\")))\n",
    "    n = len(pano_files)\n",
    "    \n",
    "    for idx in consensus:\n",
    "        start = max(0, idx - 3)\n",
    "        end = min(n, idx + 4)\n",
    "        \n",
    "        for frame_offset, i in enumerate(range(start, end)):\n",
    "            src = pano_files[i]\n",
    "            dst_name = f\"{typology_id}_{curve_id}_peak_{idx:03d}_f{frame_offset:02d}.png\"\n",
    "            dst_path = os.path.join(candidates_folder, dst_name)\n",
    "            \n",
    "            img = Image.open(src)\n",
    "            img.save(dst_path)\n",
    "    \n",
    "    return {\n",
    "        \"curve_id\": curve_id,\n",
    "        \"consensus\": list(consensus),\n",
    "        \"moderate\": list(moderate),\n",
    "        \"l2_changepoints\": list(l2_changepoints),\n",
    "        \"dssim_changepoints\": list(dssim_changepoints)\n",
    "    }"
   ]
  },
  {
   "cell_type": "code",
   "execution_count": null,
   "id": "60565350",
   "metadata": {},
   "outputs": [],
   "source": [
    "csv_files = sorted(glob.glob(os.path.join(DATA_FOLDER, \"curve_*.csv\")))\n",
    "results = []\n",
    "\n",
    "for csv_file in csv_files:\n",
    "    result = process_curve(csv_file, PANO_FOLDER, CANDIDATES_FOLDER)\n",
    "    results.append(result)\n",
    "\n",
    "# Save metadata\n",
    "typology_id = os.path.basename(DATA_FOLDER)\n",
    "metadata_path = os.path.join(CANDIDATES_FOLDER, f\"{typology_id}_metadata.csv\")\n",
    "pd.DataFrame(results).to_csv(metadata_path, index=False)\n",
    "print(f\"\\nMetadata saved to {metadata_path}\")"
   ]
  },
  {
   "cell_type": "markdown",
   "id": "f59fa7de",
   "metadata": {},
   "source": [
    "## Visualization for the first path"
   ]
  },
  {
   "cell_type": "code",
   "execution_count": null,
   "id": "cd7467ea",
   "metadata": {},
   "outputs": [],
   "source": [
    "# Example: Visualize first curve\n",
    "csv_file = csv_files[0]\n",
    "curve_id = os.path.splitext(os.path.basename(csv_file))[0]\n",
    "l2_dists, dssims = compute_metrics(PANO_FOLDER, curve_id)\n",
    "\n",
    "l2_changepoints = detect_changepoints(l2_dists)\n",
    "dssim_changepoints = detect_changepoints(dssims)\n",
    "\n",
    "fig, axes = plt.subplots(2, 1, figsize=(14, 8), sharex=True)\n",
    "\n",
    "axes[0].plot(l2_dists, label=\"L2 Distance\", color=\"blue\")\n",
    "axes[0].scatter(l2_changepoints, l2_dists[l2_changepoints], color=\"red\", label=\"L2 Changepoints\", zorder=5)\n",
    "axes[0].set_ylabel(\"L2 Distance\")\n",
    "axes[0].legend()\n",
    "axes[0].grid(True, alpha=0.3)\n",
    "\n",
    "axes[1].plot(dssims, label=\"DSSIM (1-SSIM)\", color=\"green\")\n",
    "axes[1].scatter(dssim_changepoints, dssims[dssim_changepoints], color=\"red\", label=\"DSSIM Changepoints\", zorder=5)\n",
    "axes[1].set_ylabel(\"DSSIM\")\n",
    "axes[1].set_xlabel(\"Frame Index\")\n",
    "axes[1].legend()\n",
    "axes[1].grid(True, alpha=0.3)\n",
    "\n",
    "plt.tight_layout()\n",
    "plt.show()"
   ]
  }
 ],
 "metadata": {
  "kernelspec": {
   "display_name": "base",
   "language": "python",
   "name": "python3"
  },
  "language_info": {
   "codemirror_mode": {
    "name": "ipython",
    "version": 3
   },
   "file_extension": ".py",
   "mimetype": "text/x-python",
   "name": "python",
   "nbconvert_exporter": "python",
   "pygments_lexer": "ipython3",
   "version": "3.13.5"
  }
 },
 "nbformat": 4,
 "nbformat_minor": 5
}
